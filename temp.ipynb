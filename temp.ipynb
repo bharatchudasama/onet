{
 "cells": [
  {
   "cell_type": "code",
   "execution_count": 3,
   "id": "3cb2a825",
   "metadata": {},
   "outputs": [
    {
     "name": "stdout",
     "output_type": "stream",
     "text": [
      "test.txt regenerated.\n"
     ]
    }
   ],
   "source": [
    "import os\n",
    "\n",
    "root = r\"data\\Synapse\\test_vol_h5\"\n",
    "files = os.listdir(root)\n",
    "\n",
    "with open(\"./lists/lists_Synapse/test_vol.txt\", \"w\") as f:\n",
    "    for file in files:\n",
    "        if file.endswith(\".npz\"):\n",
    "            name = os.path.splitext(file)[0]\n",
    "            f.write(name + \"\\n\")\n",
    "\n",
    "print(\"test.txt regenerated.\")\n"
   ]
  },
  {
   "cell_type": "code",
   "execution_count": 4,
   "id": "0cc14e65",
   "metadata": {},
   "outputs": [
    {
     "name": "stdout",
     "output_type": "stream",
     "text": [
      "Total .npz slices: 109591\n",
      "Batch size: 128\n",
      "Epochs: 300\n",
      "Estimated total training iterations: 256853\n"
     ]
    }
   ],
   "source": [
    "import os\n",
    "\n",
    "# === CONFIGURATION ===\n",
    "npz_dir = 'data/Synapse/train_npz'  # change if your path differs\n",
    "batch_size = 128                    # from your config\n",
    "epochs = 300                        # from your config\n",
    "\n",
    "# === COUNT .npz FILES ===\n",
    "try:\n",
    "    npz_files = [f for f in os.listdir(npz_dir) if f.endswith('.npz')]\n",
    "    total_files = len(npz_files)\n",
    "except FileNotFoundError:\n",
    "    print(f\"Directory not found: {npz_dir}\")\n",
    "    exit(1)\n",
    "\n",
    "# === CALCULATE ITERATIONS ===\n",
    "total_iterations = (total_files * epochs) // batch_size\n",
    "\n",
    "# === DISPLAY RESULTS ===\n",
    "print(f\"Total .npz slices: {total_files}\")\n",
    "print(f\"Batch size: {batch_size}\")\n",
    "print(f\"Epochs: {epochs}\")\n",
    "print(f\"Estimated total training iterations: {total_iterations}\")\n"
   ]
  },
  {
   "cell_type": "code",
   "execution_count": null,
   "id": "2add4ffa",
   "metadata": {},
   "outputs": [
    {
     "ename": "FileNotFoundError",
     "evalue": "[WinError 3] The system cannot find the path specified: './test_log/Synapse/predictions'",
     "output_type": "error",
     "traceback": [
      "\u001b[1;31m---------------------------------------------------------------------------\u001b[0m",
      "\u001b[1;31mFileNotFoundError\u001b[0m                         Traceback (most recent call last)",
      "Cell \u001b[1;32mIn[4], line 11\u001b[0m\n\u001b[0;32m      7\u001b[0m output_dir \u001b[38;5;241m=\u001b[39m \u001b[38;5;124m'\u001b[39m\u001b[38;5;124m./visualization\u001b[39m\u001b[38;5;124m'\u001b[39m\n\u001b[0;32m      9\u001b[0m os\u001b[38;5;241m.\u001b[39mmakedirs(output_dir, exist_ok\u001b[38;5;241m=\u001b[39m\u001b[38;5;28;01mTrue\u001b[39;00m)\n\u001b[1;32m---> 11\u001b[0m \u001b[38;5;28;01mfor\u001b[39;00m fname \u001b[38;5;129;01min\u001b[39;00m tqdm(\u001b[43mos\u001b[49m\u001b[38;5;241;43m.\u001b[39;49m\u001b[43mlistdir\u001b[49m\u001b[43m(\u001b[49m\u001b[43mnpz_dir\u001b[49m\u001b[43m)\u001b[49m):\n\u001b[0;32m     12\u001b[0m     \u001b[38;5;28;01mif\u001b[39;00m \u001b[38;5;129;01mnot\u001b[39;00m fname\u001b[38;5;241m.\u001b[39mendswith(\u001b[38;5;124m'\u001b[39m\u001b[38;5;124m.npz\u001b[39m\u001b[38;5;124m'\u001b[39m):\n\u001b[0;32m     13\u001b[0m         \u001b[38;5;28;01mcontinue\u001b[39;00m\n",
      "\u001b[1;31mFileNotFoundError\u001b[0m: [WinError 3] The system cannot find the path specified: './test_log/Synapse/predictions'"
     ]
    }
   ],
   "source": [
    "python test_o_net.py --dataset Synapse  --cfg \"configs/swin_tiny_patch4_window7_224_lite.yaml\"  --volume_path \"data/Synapse/test_vol_h5\"  --list_dir \"lists/lists_Synapse\"  --output_dir \"test_log/epoch_199\"  --is_savenii  --ckpt_path_swin \"model_out/Swin_D_model/epoch_199.pth\" --ckpt_path_cnn \"model_out/CNN_D_model/epoch_199.pth\"\n"
   ]
  }
 ],
 "metadata": {
  "kernelspec": {
   "display_name": "onet",
   "language": "python",
   "name": "python3"
  },
  "language_info": {
   "codemirror_mode": {
    "name": "ipython",
    "version": 3
   },
   "file_extension": ".py",
   "mimetype": "text/x-python",
   "name": "python",
   "nbconvert_exporter": "python",
   "pygments_lexer": "ipython3",
   "version": "3.10.18"
  }
 },
 "nbformat": 4,
 "nbformat_minor": 5
}
